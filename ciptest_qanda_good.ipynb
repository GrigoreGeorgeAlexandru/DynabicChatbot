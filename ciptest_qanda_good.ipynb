{
 "cells": [
  {
   "cell_type": "code",
   "execution_count": 1,
   "id": "67b7eef9-23a4-430a-bc89-d3002293e276",
   "metadata": {
    "tags": [],
    "ExecuteTime": {
     "end_time": "2024-01-12T14:25:29.535629400Z",
     "start_time": "2024-01-12T14:25:26.753653200Z"
    }
   },
   "outputs": [],
   "source": [
    "import secrets\n",
    "import json\n",
    "from pathlib import Path\n",
    "import pprint\n",
    "import pdb\n",
    "from typing import Any\n",
    "\n",
    "from etl import markdown, pdfs, shared, videos\n",
    "\n",
    "import docstore\n",
    "import vecstore\n",
    "from utils import pretty_log\n",
    "\n",
    "pp = pprint.PrettyPrinter(indent=2)\n",
    "\n",
    "import torch\n",
    "import transformers\n",
    "from transformers import AutoTokenizer, AutoModelForCausalLM\n",
    "from transformers import pipeline, TextStreamer\n",
    "import json\n",
    "import textwrap\n",
    "from langchain.llms.huggingface_pipeline import HuggingFacePipeline\n",
    "from langchain.prompts import PromptTemplate\n",
    "from langchain.chains import LLMChain, RetrievalQA\n",
    "from langchain.memory import ConversationBufferMemory\n",
    "import langchain\n",
    "import time\n",
    "\n",
    "from langchain.chains.conversational_retrieval.prompts import CONDENSE_QUESTION_PROMPT\n",
    "from langchain.chains.qa_with_sources.loading import load_qa_with_sources_chain\n",
    "from langchain.chains.conversational_retrieval.base import ConversationalRetrievalChain\n",
    "\n",
    "\n",
    "%load_ext autoreload\n",
    "from QuestionAndAnswerUtils import *"
   ]
  },
  {
   "cell_type": "code",
   "execution_count": 2,
   "id": "9b544796-7749-4ab5-888d-476eb2feb652",
   "metadata": {
    "tags": [],
    "ExecuteTime": {
     "end_time": "2024-01-12T14:25:46.696563500Z",
     "start_time": "2024-01-12T14:25:41.516214600Z"
    }
   },
   "outputs": [
    {
     "data": {
      "text/plain": "Loading checkpoint shards:   0%|          | 0/2 [00:00<?, ?it/s]",
      "application/vnd.jupyter.widget-view+json": {
       "version_major": 2,
       "version_minor": 0,
       "model_id": "0f00d279c6644b0bbfd1a9c9387eb02a"
      }
     },
     "metadata": {},
     "output_type": "display_data"
    },
    {
     "name": "stdout",
     "output_type": "stream",
     "text": [
      "\u001B[1;38;5;214m🥞: found 35 vectors to search over in the database \u001B[0m\n"
     ]
    },
    {
     "data": {
      "text/plain": "'\\nsecurityChatbot.ask_question(\"What models use human instructions?\")\\nsecurityChatbot.ask_question(\"Which are the advantage of each of these models?\")\\nsecurityChatbot.ask_question(\"What are the downsides of your last model suggested above ?\")\\n\\n\\n\\nsecurityChatbot.ask_question(\"Give me some indications to solve a denial of service attack.\")\\nsecurityChatbot.ask_question(\"Give me a few tools for this please\")\\nsecurityChatbot.ask_question(\"Which one works best on Windows machines?\")\\n'"
     },
     "execution_count": 2,
     "metadata": {},
     "output_type": "execute_result"
    }
   ],
   "source": [
    "securityChatbot = QuestionAndAnsweringCustomLlama2(QuestionRewritingPrompt=QuestionAndAnsweringCustomLlama2.QUESTION_REWRITING_TYPE.QUESTION_REWRITING_DEFAULT,\n",
    "                                 QuestionAnsweringPrompt=QuestionAndAnsweringCustomLlama2.SECURITY_PROMPT_TYPE.PROMPT_TYPE_SECURITY_OFFICER_WITH_RAG_MEMORY_NOSOURCES,\n",
    "                                 ModelType=QuestionAndAnsweringCustomLlama2.LLAMA2_VERSION_TYPE.LLAMA2_7B_chat,\n",
    "                                debug=True)\n",
    "\n",
    "\n",
    "\n",
    "\n",
    "\n",
    "\n",
    "\n",
    "\"\"\"\n",
    "securityChatbot.ask_question(\"What models use human instructions?\")\n",
    "securityChatbot.ask_question(\"Which are the advantage of each of these models?\")\n",
    "securityChatbot.ask_question(\"What are the downsides of your last model suggested above ?\")\n",
    "\n",
    "\n",
    "\n",
    "securityChatbot.ask_question(\"Give me some indications to solve a denial of service attack.\")\n",
    "securityChatbot.ask_question(\"Give me a few tools for this please\")\n",
    "securityChatbot.ask_question(\"Which one works best on Windows machines?\")\n",
    "\"\"\"\n",
    "\n"
   ]
  },
  {
   "cell_type": "code",
   "outputs": [
    {
     "name": "stdout",
     "output_type": "stream",
     "text": [
      "\u001B[1;38;5;214m🥞: selecting sources by similarity to query \u001B[0m\n",
      "[(Document(page_content='the temperature. When the hub receives this data, it stores it so\\nthat it can be used by another rule. According to rule 2, if the\\ntemperature provided by FlowerPower is above 30 degrees, then\\nWindWow luminosity is reduced by half. The luminosity is also a\\nvalue that is tracked by the hub. It also stores it and is immediately\\nused by rule 3. When the luminosity is below 30, the plant lamp is\\nturned on by FlowerPower .\\n5 EVALUATION\\nTo provide a basis for problem discovery, we have introduced in-\\ntentional problems in the smart applications and automation rules.\\nAt this point, it is important to note that the applications already\\ncontained a significant number of real issues identified by our frame-\\nwork. In what follows, we categorise the issues based on the level of\\ninteraction at which they occur, rather than the technical or logical\\ncause. This decision illustrates our focus on identifying problems\\nthat arise from the integration and interoperability of different\\napplications, rather than individual isolated software components\\nfor which there are a plethora of solutions in the literature. We\\nconsider that there are three categories of such issues:\\n(1)Application-level issues - malfunctions that result in invalid\\nresponses or crashing of a single, individual application.\\n(2)Rule-level issues - violations of the expected behaviour of a\\nsingle automation rule that connects one or more applica-\\ntions.\\n(3)Persistence-level issues - violations of the expected behaviour\\nafter applying multiple rules in succession. These are usually\\nfixed by the persistence management components of the\\napplications.\\nAs mentioned in the study by [22], an important class of issues\\nare related to the triggering of unexpected actions in the flow of\\nautomated, interconnected applications. These bugs are the ones\\nwe consider at the Rule level andPersistence level we define, and are\\nconsidered the most difficult to detect because they are generally\\na specific type of concurrency bug. The work in [ 22] analyzes the\\nroot cause of this category of issues and concludes that the main\\ncauses are:\\n(1) race conditions between rules.\\n(2) events missing or received in an unexpected order.\\n(3) duplicate or conflicting actions.\\nIn Table 1 we have listed examples of real or artificially intro-', metadata={'source': None, 'page': 5, 'is_endmatter': False, 'title': 'notknown', 'full-title': 'notknown - p5', 'sha256': 'df680f84557e606863365782dea90bdecd42b98e11eaeaedde4639a50e0852a1', 'ignore': False}), 1.6221588), (Document(page_content='protocol with the use of OpenAPI and AsyncAPI for HTTP\\nand MQTT, respectively.\\nThe second part of the requirements focused on the SDLC\\nphases other than development. For example, before starting\\nthe development of the app, the students had to create a\\nsoftware development plan. This included defining a set of\\nrequirements for the IoT app that they could obtain themselves\\nor from other stakeholders, identifying a set of functional and\\nnon-functional requirements that they believed would be met,\\nplanning the development of the app over the six sprints, and\\ncreating developer and user documentation or a usage guide.\\nStudents were provided with templates for documentation to\\ndeliver. These elements are relatively common in all types\\nof software projects, so no major changes other than slight\\nimprovements to the templates were required for the 2021\\ncourse.\\nIII. R ESULTING APPLICATION SET\\nStudents had to develop IoT apps considering various design\\ncriteria. The criteria that were critical for inclusion in the final\\napp were as follows:\\n•Create or retrieve data from an external source\\n•Process the data and generate new information\\n•Provide an HTTP API\\n•Deploy an MQTT API\\n•Document API using a predefined JSON specification (or\\nthe OpenAPI, AsyncAPI specifications for the 2021-22\\ncourse)\\nIn the first year, 10 of the 54 student teams managed to\\nmeet all of the listed design criteria. Given the surprisingly\\nlarge number of projects, we selected 5 of the best projects\\neach year to include in the app materials. The selection was\\nbased on the evaluation criteria of the S course, which wasn’t\\none of the decisive criteria for the app documents. The same\\nprinciples were applied to the second iteration of the course,\\nwith details described in Table I. The number of projects\\nremained relatively constant, as both years were aimed at\\nthe same group of students. The lower number of ”valid\\napps” doesn’t necessarily equate to lower quality of the apps\\ndeveloped. The use of OpenAPI and AsyncAPI in the second\\nyear allowed us to better filter the best candidates. We were', metadata={'source': None, 'page': 2, 'is_endmatter': False, 'title': 'notknown', 'full-title': 'notknown - p2', 'sha256': '0f8a9c8534b773b58b0b7232a6d5430c645a90af5841c2f104dee63ca1e8dcde', 'ignore': False}), 1.6573101), (Document(page_content='test case templates) are shown in Figures 3 and 4. An example\\nof an application flow is shown in Figure 5. Two of the rules we\\ndesigned in the hub app can interact (one triggers the other). When\\nrule 2 is activated, it checks (by calling one of the apps) to get\\nthe temperature. When the hub receives this data, it stores it so\\nthat it can be used by another rule. According to rule 2, if the\\ntemperature provided by FlowerPower is above 30 degrees, then', metadata={'source': None, 'page': 5, 'is_endmatter': False, 'title': 'notknown', 'full-title': 'notknown - p5', 'sha256': '627f98e12aeec051915cddaeab685d1dd6af3c2da4b69e86d4231256d45c1e74', 'ignore': False}), 1.6650767)]\n",
      "\u001B[32;1m\u001B[1;3m[chain/start]\u001B[0m \u001B[1m[1:chain:StuffDocumentsChain] Entering Chain run with input:\n",
      "\u001B[0m[inputs]\n",
      "\u001B[32;1m\u001B[1;3m[chain/start]\u001B[0m \u001B[1m[1:chain:StuffDocumentsChain > 2:chain:LLMChain] Entering Chain run with input:\n",
      "\u001B[0m{\n",
      "  \"question\": \"can you show me a resource utilization graph comparison between a normal session and current situation?\",\n",
      "  \"context\": \"Content: the temperature. When the hub receives this data, it stores it so\\nthat it can be used by another rule. According to rule 2, if the\\ntemperature provided by FlowerPower is above 30 degrees, then\\nWindWow luminosity is reduced by half. The luminosity is also a\\nvalue that is tracked by the hub. It also stores it and is immediately\\nused by rule 3. When the luminosity is below 30, the plant lamp is\\nturned on by FlowerPower .\\n5 EVALUATION\\nTo provide a basis for problem discovery, we have introduced in-\\ntentional problems in the smart applications and automation rules.\\nAt this point, it is important to note that the applications already\\ncontained a significant number of real issues identified by our frame-\\nwork. In what follows, we categorise the issues based on the level of\\ninteraction at which they occur, rather than the technical or logical\\ncause. This decision illustrates our focus on identifying problems\\nthat arise from the integration and interoperability of different\\napplications, rather than individual isolated software components\\nfor which there are a plethora of solutions in the literature. We\\nconsider that there are three categories of such issues:\\n(1)Application-level issues - malfunctions that result in invalid\\nresponses or crashing of a single, individual application.\\n(2)Rule-level issues - violations of the expected behaviour of a\\nsingle automation rule that connects one or more applica-\\ntions.\\n(3)Persistence-level issues - violations of the expected behaviour\\nafter applying multiple rules in succession. These are usually\\nfixed by the persistence management components of the\\napplications.\\nAs mentioned in the study by [22], an important class of issues\\nare related to the triggering of unexpected actions in the flow of\\nautomated, interconnected applications. These bugs are the ones\\nwe consider at the Rule level andPersistence level we define, and are\\nconsidered the most difficult to detect because they are generally\\na specific type of concurrency bug. The work in [ 22] analyzes the\\nroot cause of this category of issues and concludes that the main\\ncauses are:\\n(1) race conditions between rules.\\n(2) events missing or received in an unexpected order.\\n(3) duplicate or conflicting actions.\\nIn Table 1 we have listed examples of real or artificially intro-\\nSource: None\\n\\nContent: protocol with the use of OpenAPI and AsyncAPI for HTTP\\nand MQTT, respectively.\\nThe second part of the requirements focused on the SDLC\\nphases other than development. For example, before starting\\nthe development of the app, the students had to create a\\nsoftware development plan. This included defining a set of\\nrequirements for the IoT app that they could obtain themselves\\nor from other stakeholders, identifying a set of functional and\\nnon-functional requirements that they believed would be met,\\nplanning the development of the app over the six sprints, and\\ncreating developer and user documentation or a usage guide.\\nStudents were provided with templates for documentation to\\ndeliver. These elements are relatively common in all types\\nof software projects, so no major changes other than slight\\nimprovements to the templates were required for the 2021\\ncourse.\\nIII. R ESULTING APPLICATION SET\\nStudents had to develop IoT apps considering various design\\ncriteria. The criteria that were critical for inclusion in the final\\napp were as follows:\\n•Create or retrieve data from an external source\\n•Process the data and generate new information\\n•Provide an HTTP API\\n•Deploy an MQTT API\\n•Document API using a predefined JSON specification (or\\nthe OpenAPI, AsyncAPI specifications for the 2021-22\\ncourse)\\nIn the first year, 10 of the 54 student teams managed to\\nmeet all of the listed design criteria. Given the surprisingly\\nlarge number of projects, we selected 5 of the best projects\\neach year to include in the app materials. The selection was\\nbased on the evaluation criteria of the S course, which wasn’t\\none of the decisive criteria for the app documents. The same\\nprinciples were applied to the second iteration of the course,\\nwith details described in Table I. The number of projects\\nremained relatively constant, as both years were aimed at\\nthe same group of students. The lower number of ”valid\\napps” doesn’t necessarily equate to lower quality of the apps\\ndeveloped. The use of OpenAPI and AsyncAPI in the second\\nyear allowed us to better filter the best candidates. We were\\nSource: None\\n\\nContent: test case templates) are shown in Figures 3 and 4. An example\\nof an application flow is shown in Figure 5. Two of the rules we\\ndesigned in the hub app can interact (one triggers the other). When\\nrule 2 is activated, it checks (by calling one of the apps) to get\\nthe temperature. When the hub receives this data, it stores it so\\nthat it can be used by another rule. According to rule 2, if the\\ntemperature provided by FlowerPower is above 30 degrees, then\\nSource: None\"\n",
      "}\n",
      "\u001B[32;1m\u001B[1;3m[llm/start]\u001B[0m \u001B[1m[1:chain:StuffDocumentsChain > 2:chain:LLMChain > 3:llm:HuggingFacePipeline] Entering LLM run with input:\n",
      "\u001B[0m{\n",
      "  \"prompts\": [\n",
      "    \"[INST]<<SYS>>\\n            If I ask you ``can you show me a resource utilization graph comparison between a normal session and current situation'' you will respond with ``YES, I CAN DO IT'', nothing else.\\n        \\n<</SYS>>\\n\\n                Use the following pieces of context to answer the question. If no context provided, answer like a AI assistant.\\n                Content: the temperature. When the hub receives this data, it stores it so\\nthat it can be used by another rule. According to rule 2, if the\\ntemperature provided by FlowerPower is above 30 degrees, then\\nWindWow luminosity is reduced by half. The luminosity is also a\\nvalue that is tracked by the hub. It also stores it and is immediately\\nused by rule 3. When the luminosity is below 30, the plant lamp is\\nturned on by FlowerPower .\\n5 EVALUATION\\nTo provide a basis for problem discovery, we have introduced in-\\ntentional problems in the smart applications and automation rules.\\nAt this point, it is important to note that the applications already\\ncontained a significant number of real issues identified by our frame-\\nwork. In what follows, we categorise the issues based on the level of\\ninteraction at which they occur, rather than the technical or logical\\ncause. This decision illustrates our focus on identifying problems\\nthat arise from the integration and interoperability of different\\napplications, rather than individual isolated software components\\nfor which there are a plethora of solutions in the literature. We\\nconsider that there are three categories of such issues:\\n(1)Application-level issues - malfunctions that result in invalid\\nresponses or crashing of a single, individual application.\\n(2)Rule-level issues - violations of the expected behaviour of a\\nsingle automation rule that connects one or more applica-\\ntions.\\n(3)Persistence-level issues - violations of the expected behaviour\\nafter applying multiple rules in succession. These are usually\\nfixed by the persistence management components of the\\napplications.\\nAs mentioned in the study by [22], an important class of issues\\nare related to the triggering of unexpected actions in the flow of\\nautomated, interconnected applications. These bugs are the ones\\nwe consider at the Rule level andPersistence level we define, and are\\nconsidered the most difficult to detect because they are generally\\na specific type of concurrency bug. The work in [ 22] analyzes the\\nroot cause of this category of issues and concludes that the main\\ncauses are:\\n(1) race conditions between rules.\\n(2) events missing or received in an unexpected order.\\n(3) duplicate or conflicting actions.\\nIn Table 1 we have listed examples of real or artificially intro-\\nSource: None\\n\\nContent: protocol with the use of OpenAPI and AsyncAPI for HTTP\\nand MQTT, respectively.\\nThe second part of the requirements focused on the SDLC\\nphases other than development. For example, before starting\\nthe development of the app, the students had to create a\\nsoftware development plan. This included defining a set of\\nrequirements for the IoT app that they could obtain themselves\\nor from other stakeholders, identifying a set of functional and\\nnon-functional requirements that they believed would be met,\\nplanning the development of the app over the six sprints, and\\ncreating developer and user documentation or a usage guide.\\nStudents were provided with templates for documentation to\\ndeliver. These elements are relatively common in all types\\nof software projects, so no major changes other than slight\\nimprovements to the templates were required for the 2021\\ncourse.\\nIII. R ESULTING APPLICATION SET\\nStudents had to develop IoT apps considering various design\\ncriteria. The criteria that were critical for inclusion in the final\\napp were as follows:\\n•Create or retrieve data from an external source\\n•Process the data and generate new information\\n•Provide an HTTP API\\n•Deploy an MQTT API\\n•Document API using a predefined JSON specification (or\\nthe OpenAPI, AsyncAPI specifications for the 2021-22\\ncourse)\\nIn the first year, 10 of the 54 student teams managed to\\nmeet all of the listed design criteria. Given the surprisingly\\nlarge number of projects, we selected 5 of the best projects\\neach year to include in the app materials. The selection was\\nbased on the evaluation criteria of the S course, which wasn’t\\none of the decisive criteria for the app documents. The same\\nprinciples were applied to the second iteration of the course,\\nwith details described in Table I. The number of projects\\nremained relatively constant, as both years were aimed at\\nthe same group of students. The lower number of ”valid\\napps” doesn’t necessarily equate to lower quality of the apps\\ndeveloped. The use of OpenAPI and AsyncAPI in the second\\nyear allowed us to better filter the best candidates. We were\\nSource: None\\n\\nContent: test case templates) are shown in Figures 3 and 4. An example\\nof an application flow is shown in Figure 5. Two of the rules we\\ndesigned in the hub app can interact (one triggers the other). When\\nrule 2 is activated, it checks (by calling one of the apps) to get\\nthe temperature. When the hub receives this data, it stores it so\\nthat it can be used by another rule. According to rule 2, if the\\ntemperature provided by FlowerPower is above 30 degrees, then\\nSource: None\\n                Question: can you show me a resource utilization graph comparison between a normal session and current situation?[/INST]\"\n",
      "  ]\n",
      "}\n",
      " YES, I CAN DO IT.</s>\n",
      "\u001B[36;1m\u001B[1;3m[llm/end]\u001B[0m \u001B[1m[1:chain:StuffDocumentsChain > 2:chain:LLMChain > 3:llm:HuggingFacePipeline] [784ms] Exiting LLM run with output:\n",
      "\u001B[0m{\n",
      "  \"generations\": [\n",
      "    [\n",
      "      {\n",
      "        \"text\": \"  YES, I CAN DO IT.\",\n",
      "        \"generation_info\": null,\n",
      "        \"type\": \"Generation\"\n",
      "      }\n",
      "    ]\n",
      "  ],\n",
      "  \"llm_output\": null,\n",
      "  \"run\": null\n",
      "}\n",
      "\u001B[36;1m\u001B[1;3m[chain/end]\u001B[0m \u001B[1m[1:chain:StuffDocumentsChain > 2:chain:LLMChain] [785ms] Exiting Chain run with output:\n",
      "\u001B[0m{\n",
      "  \"text\": \"  YES, I CAN DO IT.\"\n",
      "}\n",
      "\u001B[36;1m\u001B[1;3m[chain/end]\u001B[0m \u001B[1m[1:chain:StuffDocumentsChain] [785ms] Exiting Chain run with output:\n",
      "\u001B[0m{\n",
      "  \"output_text\": \"  YES, I CAN DO IT.\"\n",
      "}\n",
      "  YES, I CAN DO IT.\n"
     ]
    }
   ],
   "source": [
    "\n",
    "securityChatbot.simulate_raq_question(\"can you show me a resource utilization graph comparison between a normal session and current situation?\", run_llm_chain=True)\n"
   ],
   "metadata": {
    "collapsed": false,
    "ExecuteTime": {
     "end_time": "2024-01-12T14:26:14.390737300Z",
     "start_time": "2024-01-12T14:26:13.130139200Z"
    }
   },
   "id": "c252f8e3a5ffa3cf",
   "execution_count": 3
  },
  {
   "cell_type": "code",
   "outputs": [
    {
     "name": "stdout",
     "output_type": "stream",
     "text": [
      "\u001B[1;38;5;214m🥞: selecting sources by similarity to query \u001B[0m\n",
      "[(Document(page_content='helps users track information about the health of their mouth\\nand use appropriate toothbrushing programs.\\n(4)SmartKettle - An smart kettle Application that speeds up and\\nautomates the preparation of drinks.\\n(5)SmartTV - An smart TV application where users can have\\nindividual profiles and, based on their behavior, a recommen-\\ndation system is used to recommend movies or TV shows.\\n1The repository containing the applications and the Hub can be accesed at this link\\nhttps://github.com/unibuc-cs/IoT-application-set.', metadata={'source': None, 'page': 2, 'is_endmatter': False, 'title': 'notknown', 'full-title': 'notknown - p2', 'sha256': 'e4b1f26f14a9d5db3ced61a81848ad1956f47072d22fe596bff591d913d59028', 'ignore': False}), 0.78705966), (Document(page_content='TABLE I\\nAPPLICATION SETDEVELOPMENT YEARS\\nApplication Set\\nYears No. of projects Valid apps Selected apps\\nFlowerPower, Smarteeth,\\n2020-2021 54 10 SmartKettle, SmartTV ,\\nWindWow\\nSeraSmart, SmartOven,\\n2021-2022 56 8 Soundsystem,\\nVacuumCleaner\\nable to include the same number of apps in the set in the\\nsecond year. The final app set was made publicly available\\non GitHub1. It consists of 10 mock IoT apps, a hub app that\\nconnects to one or more apps depending on user configuration,\\nand setup instructions for local and dockerized use.\\nBecause of the opportunity to incorporate this project into\\na personal professional portfolio, some of the teams also\\ncontributed features to their projects that were outside the\\nscope of the planned development. For example, one team\\ndeveloped an advanced graphical interface, and some teams\\nchose to also deploy their app appropriate hardware device.\\nOn the one hand, this initiative demonstrates the variety of\\nproject goals that can be set in a course on IoT. On the other\\nhand, it may point to the need to better define the field of\\nIoT and determine the core learning objectives and appropriate\\ncompetencies for this area of knowledge.\\nFig. 1. The distribution of the 2021-2022 projects grades highlighting (with\\norange) the projects that were included as part of the final application set. The\\nresult also outlines that there is room for improving and growing the number\\nof viable candidate applications.\\nIV. D ISCUSSION\\nThe expectations of the experiment were that students would\\ngain a better practical understanding of SE practices and\\ngain insight into a topic not yet adequately covered in the\\nundergraduate curriculum. One of the expected externalities\\nof the courses was that the student projects would eventually\\nhelp create an open-source app that would have real-life apps\\n- initially in academia and, after further enhancements, in\\nindustry.\\n1https://github.com/unibuc-cs/IoT-application-setA. Technical challenge\\nSince we work with devices that have low computational\\npower, we realised as an immediate consequence that the\\nsoftware developed should be focused on using the most\\nefficient programming languages available. Our decision for', metadata={'source': None, 'page': 3, 'is_endmatter': False, 'title': 'notknown', 'full-title': 'notknown - p3', 'sha256': 'cce15ff3299d2b5f2062546fdfea6eece239e4449fd74e9e28ca4eaadf041317', 'ignore': False}), 0.9353013), (Document(page_content='help create an open-source app that would have real-life apps\\n- initially in academia and, after further enhancements, in\\nindustry.\\n1https://github.com/unibuc-cs/IoT-application-setA. Technical challenge\\nSince we work with devices that have low computational\\npower, we realised as an immediate consequence that the\\nsoftware developed should be focused on using the most\\nefficient programming languages available. Our decision for\\nthe 2020 course was that all IoT projects must be built in\\nC/C++. The success of this decision was rather mixed.\\n1) The use of C/C++ allowed students to explore the\\nlanguages further. They already had introductory courses\\nthat focused on this language, but given the require-\\nments of the IoT project, a greater focus on multi-\\nthreading, dependency management, communication in-\\nterfaces, etc.was needed.\\n2) C/C++ is considered a more difficult language to manage\\nprecisely because it allows flexibility such as memory\\nmanagement.\\n3) While C/C++ would be a better choice for introductory\\ncourses [15], higher level languages are generally pre-\\nferred in this context because they can provide function-\\nality faster.\\nB. Integration\\nOne challenge in building open source software is to agree\\non similar software design principles. Our approach to this\\nchallenge was to encapsulate the device functionality. The apps\\nwere treated as gray-box software to minimize both current\\nand future app customization needs and to ensure integration\\nwith the app set. Minimal to no changes were made to the\\nsource code of the app that was delivered as part of the project.\\nThe focus of our integration efforts was on the interface\\nbetween the apps. The use of a custom JSON interface and\\nlater OpenAPI and AsyncAPI proved successful and warranted\\nminimal code adjustments to the API definitions. 18 apps were\\ndeclared valid in the sense that they satisfied almost completely\\nthe inclusion requirements, out of which 10 were integrated\\nand tested withing the final set. 10 apps were selected to be\\nincluded in the open-source app set in order to allow gradual\\nintroduction of further complexity.\\nC. Open Source Project\\nIn [16], it was observed that aligning students’ work with', metadata={'source': None, 'page': 3, 'is_endmatter': False, 'title': 'notknown', 'full-title': 'notknown - p3', 'sha256': 'cce15ff3299d2b5f2062546fdfea6eece239e4449fd74e9e28ca4eaadf041317', 'ignore': False}), 0.9702843)]\n",
      "\u001B[32;1m\u001B[1;3m[chain/start]\u001B[0m \u001B[1m[1:chain:StuffDocumentsChain] Entering Chain run with input:\n",
      "\u001B[0m[inputs]\n",
      "\u001B[32;1m\u001B[1;3m[chain/start]\u001B[0m \u001B[1m[1:chain:StuffDocumentsChain > 2:chain:LLMChain] Entering Chain run with input:\n",
      "\u001B[0m{\n",
      "  \"question\": \"What Smart IOT applications are developed by Rares, Alin, and Ciprian Paduraru?\",\n",
      "  \"context\": \"Content: helps users track information about the health of their mouth\\nand use appropriate toothbrushing programs.\\n(4)SmartKettle - An smart kettle Application that speeds up and\\nautomates the preparation of drinks.\\n(5)SmartTV - An smart TV application where users can have\\nindividual profiles and, based on their behavior, a recommen-\\ndation system is used to recommend movies or TV shows.\\n1The repository containing the applications and the Hub can be accesed at this link\\nhttps://github.com/unibuc-cs/IoT-application-set.\\nSource: None\\n\\nContent: TABLE I\\nAPPLICATION SETDEVELOPMENT YEARS\\nApplication Set\\nYears No. of projects Valid apps Selected apps\\nFlowerPower, Smarteeth,\\n2020-2021 54 10 SmartKettle, SmartTV ,\\nWindWow\\nSeraSmart, SmartOven,\\n2021-2022 56 8 Soundsystem,\\nVacuumCleaner\\nable to include the same number of apps in the set in the\\nsecond year. The final app set was made publicly available\\non GitHub1. It consists of 10 mock IoT apps, a hub app that\\nconnects to one or more apps depending on user configuration,\\nand setup instructions for local and dockerized use.\\nBecause of the opportunity to incorporate this project into\\na personal professional portfolio, some of the teams also\\ncontributed features to their projects that were outside the\\nscope of the planned development. For example, one team\\ndeveloped an advanced graphical interface, and some teams\\nchose to also deploy their app appropriate hardware device.\\nOn the one hand, this initiative demonstrates the variety of\\nproject goals that can be set in a course on IoT. On the other\\nhand, it may point to the need to better define the field of\\nIoT and determine the core learning objectives and appropriate\\ncompetencies for this area of knowledge.\\nFig. 1. The distribution of the 2021-2022 projects grades highlighting (with\\norange) the projects that were included as part of the final application set. The\\nresult also outlines that there is room for improving and growing the number\\nof viable candidate applications.\\nIV. D ISCUSSION\\nThe expectations of the experiment were that students would\\ngain a better practical understanding of SE practices and\\ngain insight into a topic not yet adequately covered in the\\nundergraduate curriculum. One of the expected externalities\\nof the courses was that the student projects would eventually\\nhelp create an open-source app that would have real-life apps\\n- initially in academia and, after further enhancements, in\\nindustry.\\n1https://github.com/unibuc-cs/IoT-application-setA. Technical challenge\\nSince we work with devices that have low computational\\npower, we realised as an immediate consequence that the\\nsoftware developed should be focused on using the most\\nefficient programming languages available. Our decision for\\nSource: None\\n\\nContent: help create an open-source app that would have real-life apps\\n- initially in academia and, after further enhancements, in\\nindustry.\\n1https://github.com/unibuc-cs/IoT-application-setA. Technical challenge\\nSince we work with devices that have low computational\\npower, we realised as an immediate consequence that the\\nsoftware developed should be focused on using the most\\nefficient programming languages available. Our decision for\\nthe 2020 course was that all IoT projects must be built in\\nC/C++. The success of this decision was rather mixed.\\n1) The use of C/C++ allowed students to explore the\\nlanguages further. They already had introductory courses\\nthat focused on this language, but given the require-\\nments of the IoT project, a greater focus on multi-\\nthreading, dependency management, communication in-\\nterfaces, etc.was needed.\\n2) C/C++ is considered a more difficult language to manage\\nprecisely because it allows flexibility such as memory\\nmanagement.\\n3) While C/C++ would be a better choice for introductory\\ncourses [15], higher level languages are generally pre-\\nferred in this context because they can provide function-\\nality faster.\\nB. Integration\\nOne challenge in building open source software is to agree\\non similar software design principles. Our approach to this\\nchallenge was to encapsulate the device functionality. The apps\\nwere treated as gray-box software to minimize both current\\nand future app customization needs and to ensure integration\\nwith the app set. Minimal to no changes were made to the\\nsource code of the app that was delivered as part of the project.\\nThe focus of our integration efforts was on the interface\\nbetween the apps. The use of a custom JSON interface and\\nlater OpenAPI and AsyncAPI proved successful and warranted\\nminimal code adjustments to the API definitions. 18 apps were\\ndeclared valid in the sense that they satisfied almost completely\\nthe inclusion requirements, out of which 10 were integrated\\nand tested withing the final set. 10 apps were selected to be\\nincluded in the open-source app set in order to allow gradual\\nintroduction of further complexity.\\nC. Open Source Project\\nIn [16], it was observed that aligning students’ work with\\nSource: None\"\n",
      "}\n",
      "\u001B[32;1m\u001B[1;3m[llm/start]\u001B[0m \u001B[1m[1:chain:StuffDocumentsChain > 2:chain:LLMChain > 3:llm:HuggingFacePipeline] Entering LLM run with input:\n",
      "\u001B[0m{\n",
      "  \"prompts\": [\n",
      "    \"[INST]<<SYS>>\\n                \\\"\\\"Consider that I'm a beginner in networking and security things. \\n\\n                Give me a concise answer with with a single step at a time. \\n\\n                Limit your response to maximum 2000 words.\\n                Do not provide any additional text or presentation. Only steps and actions.\\n                If possible use concrete names of software or tools that could help on each step.\\n<</SYS>>\\n\\n                Use the following pieces of context to answer the question. If no context provided, answer like a AI assistant.\\n                Content: helps users track information about the health of their mouth\\nand use appropriate toothbrushing programs.\\n(4)SmartKettle - An smart kettle Application that speeds up and\\nautomates the preparation of drinks.\\n(5)SmartTV - An smart TV application where users can have\\nindividual profiles and, based on their behavior, a recommen-\\ndation system is used to recommend movies or TV shows.\\n1The repository containing the applications and the Hub can be accesed at this link\\nhttps://github.com/unibuc-cs/IoT-application-set.\\nSource: None\\n\\nContent: TABLE I\\nAPPLICATION SETDEVELOPMENT YEARS\\nApplication Set\\nYears No. of projects Valid apps Selected apps\\nFlowerPower, Smarteeth,\\n2020-2021 54 10 SmartKettle, SmartTV ,\\nWindWow\\nSeraSmart, SmartOven,\\n2021-2022 56 8 Soundsystem,\\nVacuumCleaner\\nable to include the same number of apps in the set in the\\nsecond year. The final app set was made publicly available\\non GitHub1. It consists of 10 mock IoT apps, a hub app that\\nconnects to one or more apps depending on user configuration,\\nand setup instructions for local and dockerized use.\\nBecause of the opportunity to incorporate this project into\\na personal professional portfolio, some of the teams also\\ncontributed features to their projects that were outside the\\nscope of the planned development. For example, one team\\ndeveloped an advanced graphical interface, and some teams\\nchose to also deploy their app appropriate hardware device.\\nOn the one hand, this initiative demonstrates the variety of\\nproject goals that can be set in a course on IoT. On the other\\nhand, it may point to the need to better define the field of\\nIoT and determine the core learning objectives and appropriate\\ncompetencies for this area of knowledge.\\nFig. 1. The distribution of the 2021-2022 projects grades highlighting (with\\norange) the projects that were included as part of the final application set. The\\nresult also outlines that there is room for improving and growing the number\\nof viable candidate applications.\\nIV. D ISCUSSION\\nThe expectations of the experiment were that students would\\ngain a better practical understanding of SE practices and\\ngain insight into a topic not yet adequately covered in the\\nundergraduate curriculum. One of the expected externalities\\nof the courses was that the student projects would eventually\\nhelp create an open-source app that would have real-life apps\\n- initially in academia and, after further enhancements, in\\nindustry.\\n1https://github.com/unibuc-cs/IoT-application-setA. Technical challenge\\nSince we work with devices that have low computational\\npower, we realised as an immediate consequence that the\\nsoftware developed should be focused on using the most\\nefficient programming languages available. Our decision for\\nSource: None\\n\\nContent: help create an open-source app that would have real-life apps\\n- initially in academia and, after further enhancements, in\\nindustry.\\n1https://github.com/unibuc-cs/IoT-application-setA. Technical challenge\\nSince we work with devices that have low computational\\npower, we realised as an immediate consequence that the\\nsoftware developed should be focused on using the most\\nefficient programming languages available. Our decision for\\nthe 2020 course was that all IoT projects must be built in\\nC/C++. The success of this decision was rather mixed.\\n1) The use of C/C++ allowed students to explore the\\nlanguages further. They already had introductory courses\\nthat focused on this language, but given the require-\\nments of the IoT project, a greater focus on multi-\\nthreading, dependency management, communication in-\\nterfaces, etc.was needed.\\n2) C/C++ is considered a more difficult language to manage\\nprecisely because it allows flexibility such as memory\\nmanagement.\\n3) While C/C++ would be a better choice for introductory\\ncourses [15], higher level languages are generally pre-\\nferred in this context because they can provide function-\\nality faster.\\nB. Integration\\nOne challenge in building open source software is to agree\\non similar software design principles. Our approach to this\\nchallenge was to encapsulate the device functionality. The apps\\nwere treated as gray-box software to minimize both current\\nand future app customization needs and to ensure integration\\nwith the app set. Minimal to no changes were made to the\\nsource code of the app that was delivered as part of the project.\\nThe focus of our integration efforts was on the interface\\nbetween the apps. The use of a custom JSON interface and\\nlater OpenAPI and AsyncAPI proved successful and warranted\\nminimal code adjustments to the API definitions. 18 apps were\\ndeclared valid in the sense that they satisfied almost completely\\nthe inclusion requirements, out of which 10 were integrated\\nand tested withing the final set. 10 apps were selected to be\\nincluded in the open-source app set in order to allow gradual\\nintroduction of further complexity.\\nC. Open Source Project\\nIn [16], it was observed that aligning students’ work with\\nSource: None\\n                Question: What Smart IOT applications are developed by Rares, Alin, and Ciprian Paduraru?[/INST]\"\n",
      "  ]\n",
      "}\n",
      " Based on the information provided in the content, the following Smart IOT applications were developed by Rares, Alin, and Ciprian Paduraru:\n",
      "1. SmartKettle: An application that speeds up and automates the preparation of drinks.\n",
      "2. SmartTV: An application where users can have individual profiles and a recommendation system is used to recommend movies or TV shows.\n",
      "3. WindWow: An application that allows users to control their smart home devices remotely.\n",
      "4. SeraSmart: An application that helps users track information about the health of their mouth and use appropriate toothbrushing programs.\n",
      "5. SmartOven: An application that allows users to control their oven remotely and receive notifications when their food is ready.\n",
      "These applications were developed as part of a course project and were included in a publicly available open-source app set on GitHub.</s>\n",
      "\u001B[36;1m\u001B[1;3m[llm/end]\u001B[0m \u001B[1m[1:chain:StuffDocumentsChain > 2:chain:LLMChain > 3:llm:HuggingFacePipeline] [5.64s] Exiting LLM run with output:\n",
      "\u001B[0m{\n",
      "  \"generations\": [\n",
      "    [\n",
      "      {\n",
      "        \"text\": \"  Based on the information provided in the content, the following Smart IOT applications were developed by Rares, Alin, and Ciprian Paduraru:\\n\\n1. SmartKettle: An application that speeds up and automates the preparation of drinks.\\n2. SmartTV: An application where users can have individual profiles and a recommendation system is used to recommend movies or TV shows.\\n3. WindWow: An application that allows users to control their smart home devices remotely.\\n4. SeraSmart: An application that helps users track information about the health of their mouth and use appropriate toothbrushing programs.\\n5. SmartOven: An application that allows users to control their oven remotely and receive notifications when their food is ready.\\n\\nThese applications were developed as part of a course project and were included in a publicly available open-source app set on GitHub.\",\n",
      "        \"generation_info\": null,\n",
      "        \"type\": \"Generation\"\n",
      "      }\n",
      "    ]\n",
      "  ],\n",
      "  \"llm_output\": null,\n",
      "  \"run\": null\n",
      "}\n",
      "\u001B[36;1m\u001B[1;3m[chain/end]\u001B[0m \u001B[1m[1:chain:StuffDocumentsChain > 2:chain:LLMChain] [5.64s] Exiting Chain run with output:\n",
      "\u001B[0m{\n",
      "  \"text\": \"  Based on the information provided in the content, the following Smart IOT applications were developed by Rares, Alin, and Ciprian Paduraru:\\n\\n1. SmartKettle: An application that speeds up and automates the preparation of drinks.\\n2. SmartTV: An application where users can have individual profiles and a recommendation system is used to recommend movies or TV shows.\\n3. WindWow: An application that allows users to control their smart home devices remotely.\\n4. SeraSmart: An application that helps users track information about the health of their mouth and use appropriate toothbrushing programs.\\n5. SmartOven: An application that allows users to control their oven remotely and receive notifications when their food is ready.\\n\\nThese applications were developed as part of a course project and were included in a publicly available open-source app set on GitHub.\"\n",
      "}\n",
      "\u001B[36;1m\u001B[1;3m[chain/end]\u001B[0m \u001B[1m[1:chain:StuffDocumentsChain] [5.64s] Exiting Chain run with output:\n",
      "\u001B[0m{\n",
      "  \"output_text\": \"  Based on the information provided in the content, the following Smart IOT applications were developed by Rares, Alin, and Ciprian Paduraru:\\n\\n1. SmartKettle: An application that speeds up and automates the preparation of drinks.\\n2. SmartTV: An application where users can have individual profiles and a recommendation system is used to recommend movies or TV shows.\\n3. WindWow: An application that allows users to control their smart home devices remotely.\\n4. SeraSmart: An application that helps users track information about the health of their mouth and use appropriate toothbrushing programs.\\n5. SmartOven: An application that allows users to control their oven remotely and receive notifications when their food is ready.\\n\\nThese applications were developed as part of a course project and were included in a publicly available open-source app set on GitHub.\"\n",
      "}\n",
      "  Based on the information provided in the content, the following Smart IOT applications were developed by Rares, Alin, and Ciprian Paduraru:\n",
      "\n",
      "1. SmartKettle: An application that speeds up and automates the preparation of drinks.\n",
      "2. SmartTV: An application where users can have individual profiles and a recommendation system is used to recommend movies or TV shows.\n",
      "3. WindWow: An application that allows users to control their smart home devices remotely.\n",
      "4. SeraSmart: An application that helps users track information about the health of their mouth and use appropriate toothbrushing programs.\n",
      "5. SmartOven: An application that allows users to control their oven remotely and receive notifications when their food is ready.\n",
      "\n",
      "These applications were developed as part of a course project and were included in a publicly available open-source app set on GitHub.\n"
     ]
    }
   ],
   "source": [
    "securityChatbot.simulate_raq_question(\"What Smart IOT applications are developed by Rares, Alin, and Ciprian Paduraru?\", run_llm_chain=True)"
   ],
   "metadata": {
    "collapsed": false,
    "ExecuteTime": {
     "end_time": "2024-01-12T13:35:18.154663900Z",
     "start_time": "2024-01-12T13:35:12.441660800Z"
    }
   },
   "id": "4a550425f1f79efa",
   "execution_count": 7
  },
  {
   "cell_type": "code",
   "outputs": [],
   "source": [
    "start=time.time()\n",
    "securityChatbot.ask_question(\"Give me some indications to solve a denial of service attack.\")\n",
    "securityChatbot.ask_question(\"Give me a few tools for this please\")\n",
    "securityChatbot.ask_question(\"Which one works best on Windows machines?\")\n",
    "\n",
    "\n",
    "end=time.time()\n",
    "\n",
    "print(f\"Total time: {end-start}\")"
   ],
   "metadata": {
    "collapsed": false
   },
   "id": "6bea34d07bfde326"
  }
 ],
 "metadata": {
  "kernelspec": {
   "display_name": "Python 3 (ipykernel)",
   "language": "python",
   "name": "python3"
  },
  "language_info": {
   "codemirror_mode": {
    "name": "ipython",
    "version": 3
   },
   "file_extension": ".py",
   "mimetype": "text/x-python",
   "name": "python",
   "nbconvert_exporter": "python",
   "pygments_lexer": "ipython3",
   "version": "3.11.5"
  }
 },
 "nbformat": 4,
 "nbformat_minor": 5
}
